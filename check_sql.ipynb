{
 "cells": [
  {
   "cell_type": "code",
   "execution_count": 1,
   "metadata": {},
   "outputs": [],
   "source": [
    "import sqlite3\n",
    "import pandas as pd\n",
    "import settings"
   ]
  },
  {
   "cell_type": "code",
   "execution_count": 2,
   "metadata": {},
   "outputs": [
    {
     "ename": "DatabaseError",
     "evalue": "Execution failed on sql 'SELECT * from bitbay_trades': no such table: bitbay_trades",
     "output_type": "error",
     "traceback": [
      "\u001b[0;31m---------------------------------------------------------------------------\u001b[0m",
      "\u001b[0;31mOperationalError\u001b[0m                          Traceback (most recent call last)",
      "\u001b[0;32m/opt/anaconda2/envs/py3/lib/python3.7/site-packages/pandas/io/sql.py\u001b[0m in \u001b[0;36mexecute\u001b[0;34m(self, *args, **kwargs)\u001b[0m\n\u001b[1;32m   1585\u001b[0m         \u001b[0;32mtry\u001b[0m\u001b[0;34m:\u001b[0m\u001b[0;34m\u001b[0m\u001b[0;34m\u001b[0m\u001b[0m\n\u001b[0;32m-> 1586\u001b[0;31m             \u001b[0mcur\u001b[0m\u001b[0;34m.\u001b[0m\u001b[0mexecute\u001b[0m\u001b[0;34m(\u001b[0m\u001b[0;34m*\u001b[0m\u001b[0margs\u001b[0m\u001b[0;34m,\u001b[0m \u001b[0;34m**\u001b[0m\u001b[0mkwargs\u001b[0m\u001b[0;34m)\u001b[0m\u001b[0;34m\u001b[0m\u001b[0;34m\u001b[0m\u001b[0m\n\u001b[0m\u001b[1;32m   1587\u001b[0m             \u001b[0;32mreturn\u001b[0m \u001b[0mcur\u001b[0m\u001b[0;34m\u001b[0m\u001b[0;34m\u001b[0m\u001b[0m\n",
      "\u001b[0;31mOperationalError\u001b[0m: no such table: bitbay_trades",
      "\nThe above exception was the direct cause of the following exception:\n",
      "\u001b[0;31mDatabaseError\u001b[0m                             Traceback (most recent call last)",
      "\u001b[0;32m<ipython-input-2-b0263fe6ac24>\u001b[0m in \u001b[0;36m<module>\u001b[0;34m\u001b[0m\n\u001b[1;32m      8\u001b[0m     \u001b[0mtable_name\u001b[0m \u001b[0;34m=\u001b[0m \u001b[0mexchange_name\u001b[0m \u001b[0;34m+\u001b[0m \u001b[0;34m\"_trades\"\u001b[0m\u001b[0;34m\u001b[0m\u001b[0;34m\u001b[0m\u001b[0m\n\u001b[1;32m      9\u001b[0m     \u001b[0;31m# print(df)\u001b[0m\u001b[0;34m\u001b[0m\u001b[0;34m\u001b[0m\u001b[0;34m\u001b[0m\u001b[0m\n\u001b[0;32m---> 10\u001b[0;31m     \u001b[0mprint\u001b[0m\u001b[0;34m(\u001b[0m\u001b[0mpd\u001b[0m\u001b[0;34m.\u001b[0m\u001b[0mread_sql_query\u001b[0m\u001b[0;34m(\u001b[0m\u001b[0;34m\"SELECT * from {}\"\u001b[0m\u001b[0;34m.\u001b[0m\u001b[0mformat\u001b[0m\u001b[0;34m(\u001b[0m\u001b[0mtable_name\u001b[0m\u001b[0;34m)\u001b[0m\u001b[0;34m,\u001b[0m\u001b[0mconn\u001b[0m\u001b[0;34m)\u001b[0m\u001b[0;34m)\u001b[0m\u001b[0;34m\u001b[0m\u001b[0;34m\u001b[0m\u001b[0m\n\u001b[0m\u001b[1;32m     11\u001b[0m \u001b[0;34m\u001b[0m\u001b[0m\n",
      "\u001b[0;32m/opt/anaconda2/envs/py3/lib/python3.7/site-packages/pandas/io/sql.py\u001b[0m in \u001b[0;36mread_sql_query\u001b[0;34m(sql, con, index_col, coerce_float, params, parse_dates, chunksize)\u001b[0m\n\u001b[1;32m    330\u001b[0m         \u001b[0mcoerce_float\u001b[0m\u001b[0;34m=\u001b[0m\u001b[0mcoerce_float\u001b[0m\u001b[0;34m,\u001b[0m\u001b[0;34m\u001b[0m\u001b[0;34m\u001b[0m\u001b[0m\n\u001b[1;32m    331\u001b[0m         \u001b[0mparse_dates\u001b[0m\u001b[0;34m=\u001b[0m\u001b[0mparse_dates\u001b[0m\u001b[0;34m,\u001b[0m\u001b[0;34m\u001b[0m\u001b[0;34m\u001b[0m\u001b[0m\n\u001b[0;32m--> 332\u001b[0;31m         \u001b[0mchunksize\u001b[0m\u001b[0;34m=\u001b[0m\u001b[0mchunksize\u001b[0m\u001b[0;34m,\u001b[0m\u001b[0;34m\u001b[0m\u001b[0;34m\u001b[0m\u001b[0m\n\u001b[0m\u001b[1;32m    333\u001b[0m     )\n\u001b[1;32m    334\u001b[0m \u001b[0;34m\u001b[0m\u001b[0m\n",
      "\u001b[0;32m/opt/anaconda2/envs/py3/lib/python3.7/site-packages/pandas/io/sql.py\u001b[0m in \u001b[0;36mread_query\u001b[0;34m(self, sql, index_col, coerce_float, params, parse_dates, chunksize)\u001b[0m\n\u001b[1;32m   1631\u001b[0m \u001b[0;34m\u001b[0m\u001b[0m\n\u001b[1;32m   1632\u001b[0m         \u001b[0margs\u001b[0m \u001b[0;34m=\u001b[0m \u001b[0m_convert_params\u001b[0m\u001b[0;34m(\u001b[0m\u001b[0msql\u001b[0m\u001b[0;34m,\u001b[0m \u001b[0mparams\u001b[0m\u001b[0;34m)\u001b[0m\u001b[0;34m\u001b[0m\u001b[0;34m\u001b[0m\u001b[0m\n\u001b[0;32m-> 1633\u001b[0;31m         \u001b[0mcursor\u001b[0m \u001b[0;34m=\u001b[0m \u001b[0mself\u001b[0m\u001b[0;34m.\u001b[0m\u001b[0mexecute\u001b[0m\u001b[0;34m(\u001b[0m\u001b[0;34m*\u001b[0m\u001b[0margs\u001b[0m\u001b[0;34m)\u001b[0m\u001b[0;34m\u001b[0m\u001b[0;34m\u001b[0m\u001b[0m\n\u001b[0m\u001b[1;32m   1634\u001b[0m         \u001b[0mcolumns\u001b[0m \u001b[0;34m=\u001b[0m \u001b[0;34m[\u001b[0m\u001b[0mcol_desc\u001b[0m\u001b[0;34m[\u001b[0m\u001b[0;36m0\u001b[0m\u001b[0;34m]\u001b[0m \u001b[0;32mfor\u001b[0m \u001b[0mcol_desc\u001b[0m \u001b[0;32min\u001b[0m \u001b[0mcursor\u001b[0m\u001b[0;34m.\u001b[0m\u001b[0mdescription\u001b[0m\u001b[0;34m]\u001b[0m\u001b[0;34m\u001b[0m\u001b[0;34m\u001b[0m\u001b[0m\n\u001b[1;32m   1635\u001b[0m \u001b[0;34m\u001b[0m\u001b[0m\n",
      "\u001b[0;32m/opt/anaconda2/envs/py3/lib/python3.7/site-packages/pandas/io/sql.py\u001b[0m in \u001b[0;36mexecute\u001b[0;34m(self, *args, **kwargs)\u001b[0m\n\u001b[1;32m   1596\u001b[0m \u001b[0;34m\u001b[0m\u001b[0m\n\u001b[1;32m   1597\u001b[0m             \u001b[0mex\u001b[0m \u001b[0;34m=\u001b[0m \u001b[0mDatabaseError\u001b[0m\u001b[0;34m(\u001b[0m\u001b[0;34mf\"Execution failed on sql '{args[0]}': {exc}\"\u001b[0m\u001b[0;34m)\u001b[0m\u001b[0;34m\u001b[0m\u001b[0;34m\u001b[0m\u001b[0m\n\u001b[0;32m-> 1598\u001b[0;31m             \u001b[0;32mraise\u001b[0m \u001b[0mex\u001b[0m \u001b[0;32mfrom\u001b[0m \u001b[0mexc\u001b[0m\u001b[0;34m\u001b[0m\u001b[0;34m\u001b[0m\u001b[0m\n\u001b[0m\u001b[1;32m   1599\u001b[0m \u001b[0;34m\u001b[0m\u001b[0m\n\u001b[1;32m   1600\u001b[0m     \u001b[0;34m@\u001b[0m\u001b[0mstaticmethod\u001b[0m\u001b[0;34m\u001b[0m\u001b[0;34m\u001b[0m\u001b[0m\n",
      "\u001b[0;31mDatabaseError\u001b[0m: Execution failed on sql 'SELECT * from bitbay_trades': no such table: bitbay_trades"
     ]
    }
   ],
   "source": [
    "# trades check\n",
    "exchanges = settings.exchanges\n",
    "conn = sqlite3.connect('test.db')\n",
    "\n",
    "for k, v in exchanges.items():\n",
    "    exchange_name = k\n",
    "    exchange = v\n",
    "    table_name = exchange_name + \"_trades\"\n",
    "    # print(df)\n",
    "    print(pd.read_sql_query(\"SELECT * from {}\".format(table_name),conn))\n",
    "\n"
   ]
  },
  {
   "cell_type": "code",
   "execution_count": 3,
   "metadata": {},
   "outputs": [
    {
     "name": "stdout",
     "output_type": "stream",
     "text": [
      "   index               time           utc exchange     pair  USD/PLN  \\\n",
      "0      0  20-04-25 16:05:02  1.587827e+09   bitbay  ETH/PLN  4.19125   \n",
      "1      0  20-04-25 16:06:01  1.587827e+09   bitbay  ETH/PLN  4.19125   \n",
      "2      0  20-04-25 16:07:02  1.587827e+09   bitbay  ETH/PLN  4.19125   \n",
      "3      0  20-04-25 16:08:02  1.587827e+09   bitbay  ETH/PLN  4.19125   \n",
      "\n",
      "   bal_fiat_free  bal_fiat_used  bal_fiat_total  bal_eth_free  ...   1_bid_sz  \\\n",
      "0       48657.66       32730.01        81387.67    197.851496  ...   5.687756   \n",
      "1       32380.19       49007.48        81387.67    158.092496  ...   5.306172   \n",
      "2       32380.14       49007.53        81387.67    197.851496  ...  25.456558   \n",
      "3       32380.14       49007.53        81387.67    197.851496  ...  12.872191   \n",
      "\n",
      "    2_bid_sz   3_bid_sz  4_bid_sz  5_bid_sz  1_ask_sz  2_ask_sz  3_ask_sz  \\\n",
      "0  20.320000  24.648451  0.050000  0.246877  5.682580  0.444786  6.150609   \n",
      "1  24.629632  20.320000  7.340000  0.050000  0.444786  6.150609  5.449497   \n",
      "2  24.612658  12.901815  2.463054  7.990000  0.434970  5.941220  6.150609   \n",
      "3   3.685504  20.320000  2.463054  0.050000  0.434970  5.289723  6.150609   \n",
      "\n",
      "   4_ask_sz   5_ask_sz  \n",
      "0  0.032079  58.238755  \n",
      "1  0.032079   0.419342  \n",
      "2  0.032079   0.419342  \n",
      "3  0.032079   0.419342  \n",
      "\n",
      "[4 rows x 32 columns]\n",
      "   index               time           utc exchange     pair  USD/IDR  \\\n",
      "0      0  20-04-25 16:05:02  1.587827e+09  indodax  ETH/IDR  15587.9   \n",
      "1      0  20-04-25 16:06:01  1.587827e+09  indodax  ETH/IDR  15587.9   \n",
      "2      0  20-04-25 16:07:02  1.587827e+09  indodax  ETH/IDR  15587.9   \n",
      "3      0  20-04-25 16:08:02  1.587827e+09  indodax  ETH/IDR  15587.9   \n",
      "\n",
      "   bal_fiat_free  bal_fiat_used  bal_fiat_total  bal_eth_free  ...  1_bid_sz  \\\n",
      "0    275348757.0            0.0     275348757.0     91.318431  ...  6.946008   \n",
      "1    242306924.0     33041833.0     275348757.0     80.360231  ...  6.446008   \n",
      "2    242306975.0     33041782.0     275348757.0     91.318431  ...  0.161807   \n",
      "3    242306958.0     33041799.0     275348757.0     91.318431  ...  0.296442   \n",
      "\n",
      "    2_bid_sz  3_bid_sz  4_bid_sz   5_bid_sz   1_ask_sz   2_ask_sz   3_ask_sz  \\\n",
      "0   0.018862  0.936034  0.018951   5.315599  14.137275   2.976196  41.231000   \n",
      "1   0.018862  0.936034  0.018951  18.161823   2.137275   2.976196  41.231000   \n",
      "2  17.750787  0.018862  0.936034   0.018951   2.976196  43.231000   0.060008   \n",
      "3  18.254158  0.018862  0.936034   0.018951   2.474177  12.000000   2.000000   \n",
      "\n",
      "    4_ask_sz   5_ask_sz  \n",
      "0   0.060008   0.060008  \n",
      "1  10.958200   0.060008  \n",
      "2  12.000000   0.060008  \n",
      "3   0.060008  41.231000  \n",
      "\n",
      "[4 rows x 32 columns]\n"
     ]
    }
   ],
   "source": [
    "# bal & orderbook check \n",
    "for k, v in exchanges.items():\n",
    "    exchange_name = k\n",
    "    exchange = v\n",
    "    table_name = exchange_name + \"_bal_orderbook\"\n",
    "    # print(df)\n",
    "    print(pd.read_sql_query(\"SELECT * from {}\".format(table_name),conn).tail())\n"
   ]
  },
  {
   "cell_type": "code",
   "execution_count": null,
   "metadata": {},
   "outputs": [],
   "source": []
  }
 ],
 "metadata": {
  "kernelspec": {
   "display_name": "Python 3",
   "language": "python",
   "name": "python3"
  },
  "language_info": {
   "codemirror_mode": {
    "name": "ipython",
    "version": 3
   },
   "file_extension": ".py",
   "mimetype": "text/x-python",
   "name": "python",
   "nbconvert_exporter": "python",
   "pygments_lexer": "ipython3",
   "version": "3.7.7"
  }
 },
 "nbformat": 4,
 "nbformat_minor": 4
}
