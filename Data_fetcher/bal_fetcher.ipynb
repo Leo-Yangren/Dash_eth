{
 "cells": [
  {
   "cell_type": "code",
   "execution_count": 63,
   "metadata": {},
   "outputs": [],
   "source": [
    "import requests\n",
    "import pandas as pd\n",
    "from datetime import datetime\n",
    "import ccxt\n",
    "import sqlite3\n",
    "import config"
   ]
  },
  {
   "cell_type": "code",
   "execution_count": 64,
   "metadata": {},
   "outputs": [],
   "source": [
    "ex = 'indodax' \n",
    "currency_f = 'idr'\n",
    "currency_c = 'eth'\n",
    "pair = currency_c.upper() + '/' +currency_f.upper()\n",
    "now = datetime.utcnow()\n"
   ]
  },
  {
   "cell_type": "code",
   "execution_count": 65,
   "metadata": {},
   "outputs": [],
   "source": [
    "def get_fx(currency_f):\n",
    "    fx = requests.get('https://apilayer.net/api/live?access_key=a1d6d82a3df7cf7882c9dd2b35146d6e&source=USD&format=1').json()\n",
    "    return fx['quotes']['USD' + currency_f.upper()]"
   ]
  },
  {
   "cell_type": "code",
   "execution_count": 66,
   "metadata": {},
   "outputs": [],
   "source": [
    "def get_basic(time):\n",
    "    now_ts = datetime.timestamp(time)\n",
    "    fx_name = 'USD/' + currency_f.upper()\n",
    "    fx_rate = get_fx(currency_f)\n",
    "    basics = {'utc':[now_ts],\n",
    "     'exchange':[ex],\n",
    "    'pair':[pair],\n",
    "     fx_name:[float(fx_rate)]}\n",
    "    basics = pd.DataFrame(basics)\n",
    "    return basics"
   ]
  },
  {
   "cell_type": "code",
   "execution_count": 67,
   "metadata": {},
   "outputs": [],
   "source": [
    "arg = {\n",
    "    'apiKey': config.indodax['apiKey'],\n",
    "    'secret': config.indodax['secret']\n",
    "}"
   ]
  },
  {
   "cell_type": "code",
   "execution_count": 68,
   "metadata": {},
   "outputs": [],
   "source": [
    "def get_bal(ex, currency_f):\n",
    "    ex_instance = eval('ccxt.' + ex)(arg)\n",
    "    bal = ex_instance.fetch_balance()\n",
    "    bal_fiat_free = bal[currency_f.upper()]['free']\n",
    "    bal_eth_free = bal['ETH']['free']\n",
    "    bal_fiat_used = bal[currency_f.upper()]['used']\n",
    "    bal_eth_used = bal['ETH']['used']\n",
    "    bal_fiat_total = bal[currency_f.upper()]['total']\n",
    "    bal_eth_total = bal['ETH']['total']\n",
    "    bl = {}\n",
    "    for i in ('bal_fiat_free',  'bal_fiat_used','bal_fiat_total','bal_eth_free','bal_eth_used','bal_eth_total'):\n",
    "        bl[i] = locals()[i]\n",
    "    df = pd.DataFrame({k: [v] for k, v in bl.items()})\n",
    "    return df\n",
    "        \n",
    "        \n",
    "    "
   ]
  },
  {
   "cell_type": "code",
   "execution_count": 69,
   "metadata": {},
   "outputs": [],
   "source": [
    "\n",
    "\n",
    "basics = get_basic(now)\n",
    "\n",
    "bl = get_bal(ex, currency_f)\n",
    "\n",
    "df = pd.concat([basics,bl],axis =1)"
   ]
  },
  {
   "cell_type": "code",
   "execution_count": null,
   "metadata": {},
   "outputs": [],
   "source": []
  },
  {
   "cell_type": "code",
   "execution_count": 70,
   "metadata": {},
   "outputs": [],
   "source": [
    "# connect to sql\n",
    "conn = sqlite3.connect('mysqlite.db')\n",
    "table_name = \"bl_\" + ex "
   ]
  },
  {
   "cell_type": "code",
   "execution_count": 71,
   "metadata": {},
   "outputs": [],
   "source": [
    "# append\n",
    "df.to_sql(table_name, conn, if_exists = 'append')"
   ]
  },
  {
   "cell_type": "code",
   "execution_count": 72,
   "metadata": {},
   "outputs": [
    {
     "data": {
      "text/html": [
       "<div>\n",
       "<style scoped>\n",
       "    .dataframe tbody tr th:only-of-type {\n",
       "        vertical-align: middle;\n",
       "    }\n",
       "\n",
       "    .dataframe tbody tr th {\n",
       "        vertical-align: top;\n",
       "    }\n",
       "\n",
       "    .dataframe thead th {\n",
       "        text-align: right;\n",
       "    }\n",
       "</style>\n",
       "<table border=\"1\" class=\"dataframe\">\n",
       "  <thead>\n",
       "    <tr style=\"text-align: right;\">\n",
       "      <th></th>\n",
       "      <th>index</th>\n",
       "      <th>utc</th>\n",
       "      <th>exchange</th>\n",
       "      <th>pair</th>\n",
       "      <th>USD/IDR</th>\n",
       "      <th>bal_fiat_free</th>\n",
       "      <th>bal_fiat_used</th>\n",
       "      <th>bal_fiat_total</th>\n",
       "      <th>bal_eth_free</th>\n",
       "      <th>bal_eth_used</th>\n",
       "      <th>bal_eth_total</th>\n",
       "    </tr>\n",
       "  </thead>\n",
       "  <tbody>\n",
       "    <tr>\n",
       "      <th>0</th>\n",
       "      <td>0</td>\n",
       "      <td>1.587802e+09</td>\n",
       "      <td>indodax</td>\n",
       "      <td>ETH/IDR</td>\n",
       "      <td>15587.9</td>\n",
       "      <td>231506022.0</td>\n",
       "      <td>31568897.0</td>\n",
       "      <td>263074919.0</td>\n",
       "      <td>83.923629</td>\n",
       "      <td>11.4441</td>\n",
       "      <td>95.367729</td>\n",
       "    </tr>\n",
       "    <tr>\n",
       "      <th>1</th>\n",
       "      <td>0</td>\n",
       "      <td>1.587802e+09</td>\n",
       "      <td>indodax</td>\n",
       "      <td>ETH/IDR</td>\n",
       "      <td>15587.9</td>\n",
       "      <td>231506064.0</td>\n",
       "      <td>31568855.0</td>\n",
       "      <td>263074919.0</td>\n",
       "      <td>83.923629</td>\n",
       "      <td>11.4441</td>\n",
       "      <td>95.367729</td>\n",
       "    </tr>\n",
       "  </tbody>\n",
       "</table>\n",
       "</div>"
      ],
      "text/plain": [
       "   index           utc exchange     pair  USD/IDR  bal_fiat_free  \\\n",
       "0      0  1.587802e+09  indodax  ETH/IDR  15587.9    231506022.0   \n",
       "1      0  1.587802e+09  indodax  ETH/IDR  15587.9    231506064.0   \n",
       "\n",
       "   bal_fiat_used  bal_fiat_total  bal_eth_free  bal_eth_used  bal_eth_total  \n",
       "0     31568897.0     263074919.0     83.923629       11.4441      95.367729  \n",
       "1     31568855.0     263074919.0     83.923629       11.4441      95.367729  "
      ]
     },
     "execution_count": 72,
     "metadata": {},
     "output_type": "execute_result"
    }
   ],
   "source": [
    "# check \n",
    "pd.read_sql_query(\"SELECT * from {}\".format(table_name),conn).tail()"
   ]
  },
  {
   "cell_type": "code",
   "execution_count": 56,
   "metadata": {},
   "outputs": [],
   "source": [
    "conn.close()"
   ]
  },
  {
   "cell_type": "code",
   "execution_count": null,
   "metadata": {},
   "outputs": [],
   "source": []
  }
 ],
 "metadata": {
  "kernelspec": {
   "display_name": "Python 3",
   "language": "python",
   "name": "python3"
  },
  "language_info": {
   "codemirror_mode": {
    "name": "ipython",
    "version": 3
   },
   "file_extension": ".py",
   "mimetype": "text/x-python",
   "name": "python",
   "nbconvert_exporter": "python",
   "pygments_lexer": "ipython3",
   "version": "3.7.7"
  }
 },
 "nbformat": 4,
 "nbformat_minor": 4
}
